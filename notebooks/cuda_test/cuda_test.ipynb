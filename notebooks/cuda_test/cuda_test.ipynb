{
 "cells": [
  {
   "cell_type": "code",
   "execution_count": 5,
   "metadata": {},
   "outputs": [
    {
     "name": "stdout",
     "output_type": "stream",
     "text": [
      "True\n",
      "PyTorch версия: 2.5.1+cu124\n",
      "PyTorch cuda версия: 12.4\n",
      "GPU устройство: NVIDIA GeForce RTX 3090 Ti\n",
      "Количество доступных GPU: 1\n",
      "Всего памяти GPU: 23.99 GB\n",
      "Доступно памяти GPU: 22.74 GB\n"
     ]
    }
   ],
   "source": [
    "import torch\n",
    "\n",
    "print(f\"CUDA доступна: {torch.cuda.is_available()}\")\n",
    "\n",
    "print(f\"PyTorch версия: {torch.__version__}\")\n",
    "print(f\"PyTorch cuda версия: {torch.version.cuda}\")\n",
    "print(f\"GPU устройство: {torch.cuda.get_device_name(0)}\")\n",
    "print(f\"Количество доступных GPU: {torch.cuda.device_count()}\")\n",
    "\n",
    "print(f\"Всего памяти GPU: {torch.cuda.get_device_properties(0).total_memory / 1024**3:.2f} GB\")\n",
    "print(f\"Доступно памяти GPU: {torch.cuda.mem_get_info()[0] / 1024**3:.2f} GB\")"
   ]
  },
  {
   "cell_type": "markdown",
   "metadata": {},
   "source": [
    "## Tест GPU vs CPU\n",
    "\n",
    "Два типа тестов:\n",
    "* Матричные операции с большими матрицами (10000x10000)\n",
    "* Обучение простой нейронной сети на синтетических данных"
   ]
  },
  {
   "cell_type": "code",
   "execution_count": 7,
   "metadata": {},
   "outputs": [
    {
     "name": "stdout",
     "output_type": "stream",
     "text": [
      "PyTorch версия: 2.5.1+cu124\n",
      "CUDA доступна: True\n",
      "GPU: NVIDIA GeForce RTX 3090 Ti\n",
      "\n",
      "Тест матричных операций:\n",
      "CPU время: 7.09 секунд\n",
      "GPU время: 0.39 секунд\n",
      "Ускорение: 18.2x\n",
      "\n",
      "Тест обучения нейронной сети:\n",
      "CPU время: 15.03 секунд\n",
      "GPU время: 0.16 секунд\n",
      "Ускорение: 93.2x\n"
     ]
    }
   ],
   "source": [
    "import torch\n",
    "import time\n",
    "import torch.nn as nn\n",
    "import torch.optim as optim\n",
    "\n",
    "def matrix_operations_test(device, size=10000):\n",
    "    \"\"\"Тест операций с большими матрицами\"\"\"\n",
    "    # Создаем большие матрицы\n",
    "    matrix1 = torch.randn(size, size, device=device)\n",
    "    matrix2 = torch.randn(size, size, device=device)\n",
    "    \n",
    "    start_time = time.time()\n",
    "    \n",
    "    # Выполняем операции\n",
    "    result = torch.matmul(matrix1, matrix2)\n",
    "    result = torch.sin(result)\n",
    "    result = torch.max(result, dim=1)[0]\n",
    "    \n",
    "    torch.cuda.synchronize() if device.type == 'cuda' else None\n",
    "    end_time = time.time()\n",
    "    \n",
    "    return end_time - start_time\n",
    "\n",
    "def neural_network_test(device, num_epochs=10):\n",
    "    \"\"\"Тест обучения простой нейронной сети\"\"\"\n",
    "    # Создаем синтетический датасет\n",
    "    X = torch.randn(100000, 1000, device=device)\n",
    "    y = torch.randint(0, 2, (100000,), device=device).float()\n",
    "    \n",
    "    # Создаем простую модель\n",
    "    model = nn.Sequential(\n",
    "        nn.Linear(1000, 512),\n",
    "        nn.ReLU(),\n",
    "        nn.Linear(512, 256),\n",
    "        nn.ReLU(),\n",
    "        nn.Linear(256, 128),\n",
    "        nn.ReLU(),\n",
    "        nn.Linear(128, 1),\n",
    "        nn.Sigmoid()\n",
    "    ).to(device)\n",
    "    \n",
    "    criterion = nn.BCELoss()\n",
    "    optimizer = optim.Adam(model.parameters())\n",
    "    \n",
    "    start_time = time.time()\n",
    "    \n",
    "    # Обучаем модель\n",
    "    for epoch in range(num_epochs):\n",
    "        optimizer.zero_grad()\n",
    "        outputs = model(X)\n",
    "        loss = criterion(outputs.squeeze(), y)\n",
    "        loss.backward()\n",
    "        optimizer.step()\n",
    "    \n",
    "    torch.cuda.synchronize() if device.type == 'cuda' else None\n",
    "    end_time = time.time()\n",
    "    \n",
    "    return end_time - start_time\n",
    "\n",
    "def run_benchmarks():\n",
    "    # Проверяем доступность CUDA\n",
    "    device_cpu = torch.device('cpu')\n",
    "    device_cuda = torch.device('cuda' if torch.cuda.is_available() else 'cpu')\n",
    "    \n",
    "    print(f\"PyTorch версия: {torch.__version__}\")\n",
    "    print(f\"CUDA доступна: {torch.cuda.is_available()}\")\n",
    "    if torch.cuda.is_available():\n",
    "        print(f\"GPU: {torch.cuda.get_device_name(0)}\")\n",
    "    \n",
    "    # Тест матричных операций\n",
    "    print(\"\\nТест матричных операций:\")\n",
    "    cpu_time = matrix_operations_test(device_cpu)\n",
    "    print(f\"CPU время: {cpu_time:.2f} секунд\")\n",
    "    \n",
    "    if torch.cuda.is_available():\n",
    "        gpu_time = matrix_operations_test(device_cuda)\n",
    "        print(f\"GPU время: {gpu_time:.2f} секунд\")\n",
    "        print(f\"Ускорение: {cpu_time/gpu_time:.1f}x\")\n",
    "    \n",
    "    # Тест нейронной сети\n",
    "    print(\"\\nТест обучения нейронной сети:\")\n",
    "    cpu_time = neural_network_test(device_cpu)\n",
    "    print(f\"CPU время: {cpu_time:.2f} секунд\")\n",
    "    \n",
    "    if torch.cuda.is_available():\n",
    "        gpu_time = neural_network_test(device_cuda)\n",
    "        print(f\"GPU время: {gpu_time:.2f} секунд\")\n",
    "        print(f\"Ускорение: {cpu_time/gpu_time:.1f}x\")\n",
    "\n",
    "\n",
    "run_benchmarks()"
   ]
  },
  {
   "cell_type": "code",
   "execution_count": null,
   "metadata": {},
   "outputs": [],
   "source": []
  }
 ],
 "metadata": {
  "kernelspec": {
   "display_name": ".venv",
   "language": "python",
   "name": "python3"
  },
  "language_info": {
   "codemirror_mode": {
    "name": "ipython",
    "version": 3
   },
   "file_extension": ".py",
   "mimetype": "text/x-python",
   "name": "python",
   "nbconvert_exporter": "python",
   "pygments_lexer": "ipython3",
   "version": "3.10.15"
  }
 },
 "nbformat": 4,
 "nbformat_minor": 2
}
